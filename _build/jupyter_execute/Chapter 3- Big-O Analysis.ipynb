{
 "cells": [
  {
   "cell_type": "markdown",
   "id": "d14df2dd",
   "metadata": {},
   "source": [
    "# Chapter 3: Big-O Analysis\n",
    "Asymptotic Analysis is a method for measuring the execution time and memory usage of a specific algorithm. It has two components:\n",
    "\n",
    "- Time complexity a measurement of the amount of time an algorithm takes to run as the size of the input (the arguments you pass in to your functions!) changes\n",
    "- Space complexity a measurement of the amount of memory an algorithm uses as the size of the input changes\n",
    "\n",
    "The mathematical notation that we use to describe different trends in time and space complexity is called Big O notation. Big O uses the syntax O(...) where inside parentheses is some expression that describes the relationship between the size of an algorithm's input and the complexity of the algorithm.\n",
    "\n",
    "Common Big O complexities are summarized below.\n",
    "\n",
    "<img src=\"./Big_O.png\" alt=\"Big-O Complexities\" style=\"width:800px;height:600px;\">\n"
   ]
  },
  {
   "cell_type": "markdown",
   "id": "22f3443d",
   "metadata": {},
   "source": [
    "## Common Built-In Functions Time Complexities\n",
    "\n",
    "<img src=\"./Common_fns_time_complexities.png\" alt=\"Common Functions Time Complexities\" style=\"width:400px;height:400px;\">"
   ]
  },
  {
   "cell_type": "markdown",
   "id": "259e5df5",
   "metadata": {},
   "source": [
    "## Complexities with Multiple Variables\n",
    "\n",
    "We may also encounter time complexities which use variables other than n. One typical scenario for this is when we have multiple inputs, each with variable size, that both affect time complexity.\n",
    "\n",
    "We could say this algorithm below has an O(m*n) time complexity where m is the number of rows and n is the number of columns."
   ]
  },
  {
   "cell_type": "code",
   "execution_count": 1,
   "id": "3ceb7514",
   "metadata": {},
   "outputs": [
    {
     "name": "stdout",
     "output_type": "stream",
     "text": [
      "[[None, None, None], [None, None, None]]\n"
     ]
    }
   ],
   "source": [
    "def init_matrix(rows, columns):\n",
    "    matrix = []\n",
    "    for r in range(rows):\n",
    "        matrix.append([])\n",
    "        for c in range(columns):\n",
    "            matrix[r].append(None)\n",
    "    return matrix\n",
    "\n",
    "print(init_matrix(2, 3))"
   ]
  },
  {
   "cell_type": "code",
   "execution_count": 2,
   "id": "e7cd77ae",
   "metadata": {},
   "outputs": [
    {
     "data": {
      "text/plain": [
       "[[None, None, None], [None, None, None]]"
      ]
     },
     "execution_count": 2,
     "metadata": {},
     "output_type": "execute_result"
    }
   ],
   "source": [
    "# same code as above but using list comprehension to create row*col matrix\n",
    "[[None for col in range(3)] for row in range(2)]"
   ]
  }
 ],
 "metadata": {
  "language_info": {
   "codemirror_mode": {
    "name": "ipython",
    "version": 3
   },
   "file_extension": ".py",
   "mimetype": "text/x-python",
   "name": "python",
   "nbconvert_exporter": "python",
   "pygments_lexer": "ipython3",
   "version": "3.13.5"
  }
 },
 "nbformat": 4,
 "nbformat_minor": 5
}