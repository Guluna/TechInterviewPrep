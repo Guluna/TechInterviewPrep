{
 "cells": [
  {
   "cell_type": "markdown",
   "id": "9e6739b7",
   "metadata": {},
   "source": [
    "# Chapter 5: Dynamic Programming\n",
    "\n",
    "Dynamic programming is just a fancy term for asking the computer to remember what it has already calculated (a technique known as Memoization).\n",
    "\n"
   ]
  },
  {
   "cell_type": "markdown",
   "id": "ff125594",
   "metadata": {},
   "source": [
    "## 1-D Dynamic Programming\n",
    "\n",
    "In 1-dimensional dynamic programming problems, the problem can be broken down into subproblems that depend on one variable. We store the answers to each subproblem using a 1-D array - that is in a list.\n",
    "\n",
    "Dynamic programming solutions have four key components:\n",
    "\n",
    "1. State (Subproblem Definition): The state represents the subproblem we are solving at a specific index or value. In 1-D dynamic programming, this is usually stored in a list, usually named dp or memo by convention, where each index corresponds to a specific subproblem.\n",
    "2. Recurrence Relation (Transition): The recurrence relation describes how the solution to a larger subproblem is constructed from smaller subproblems. This defines the transition between states. This is equivalent to the recursive case in a recursive solution.\n",
    "3. Base Case (Initial Conditions): As with recursion, the base case represents the simplest subproblem, which doesn’t depend on any previous results. This is the starting point from which the dynamic programming list is filled.\n",
    "4. Final Solution: The solution to the overall problem (i.e., the largest subproblem) is typically stored at the last index of the array.\n"
   ]
  },
  {
   "cell_type": "markdown",
   "id": "45954ee8",
   "metadata": {},
   "source": [
    "### Example\n",
    "\n",
    "We can look at an example of this using the Tribonacci sequence. Similar to the Fibonacci sequence, the nth Tribonacci number is the sum of the previous three numbers in the sequence. The mathematical sequence is defined as follows:\n",
    "\n",
    "- T0 = 0\n",
    "- T1 = 1\n",
    "- T2 = 1\n",
    "- Tn+3 = Tn + Tn+1 + Tn+2 for n >= 0.\n",
    "\n",
    "The non-optimal recursive solution to find the nth Tribonacci number is as follows:"
   ]
  },
  {
   "cell_type": "code",
   "execution_count": 1,
   "id": "1c44253b",
   "metadata": {},
   "outputs": [
    {
     "data": {
      "text/plain": [
       "7"
      ]
     },
     "execution_count": 1,
     "metadata": {},
     "output_type": "execute_result"
    }
   ],
   "source": [
    "def tribonacci_recursive(n):\n",
    "    # Base cases\n",
    "    if n == 0:\n",
    "        return 0\n",
    "    elif n == 1 or n == 2:\n",
    "        return 1\n",
    "    \n",
    "    # Recursive relation\n",
    "    return tribonacci_recursive(n - 1) + tribonacci_recursive(n - 2) + tribonacci_recursive(n - 3)\n",
    "\n",
    "tribonacci_recursive(5)"
   ]
  },
  {
   "cell_type": "markdown",
   "id": "615e57e0",
   "metadata": {},
   "source": [
    "The recursive solution is inefficient because it repeatedly solves some of the same subproblems. For example, for the\n",
    "\n",
    "This solution is inefficent because we repeatedly solve the same subproblems. For example, notice that to find the 5th Tribonacci number tribonacci_recursive(5), we make the function call tribonacci_recursive(2) four separate times.\n",
    "\n",
    "<img src=\"./tribonacci.png\" alt=\"tribonacci\" style=\"width:500px;height:400px;\">\n",
    "\n",
    "To eliminate the need for repeated recursive calls on the same problem, we can instead create an array to memoize or store the results to smaller subproblems as we encounter them.\n",
    "\n",
    "We can define the four components to a dynamic programming solution for Tribonacci as follows:\n",
    "\n",
    "1. State: dp[i] represents the ith Tribonacci number.\n",
    "2. Recurrence Relation: dp[i] = dp[i-1] + dp[i-2] + dp[i-3] for i≥3.\n",
    "3. Base Case: dp[0] = 0, dp[1] = 1, dp[2] = 1.\n",
    "4. Final Solution: The final answer is stored in dp[n], where n is the desired Tribonacci number.\n"
   ]
  },
  {
   "cell_type": "code",
   "execution_count": 2,
   "id": "742870b5",
   "metadata": {},
   "outputs": [],
   "source": [
    "def tribonacci_dp(n):\n",
    "    # Base cases for n = 0, 1, 2\n",
    "    if n == 0:\n",
    "        return 0\n",
    "    elif n == 1 or n == 2:\n",
    "        return 1\n",
    "    \n",
    "    # Create a dynamic programming array to store tribonacci numbers up to n\n",
    "    dp = [0] * (n + 1)\n",
    "    dp[1] = dp[2] = 1\n",
    "    \n",
    "    # Fill the dp array using the recurrence relation\n",
    "    for i in range(3, n + 1):\n",
    "        dp[i] = dp[i - 1] + dp[i - 2] + dp[i - 3]\n",
    "    \n",
    "    # Return the nth tribonacci number\n",
    "    return dp[n]\n"
   ]
  },
  {
   "cell_type": "markdown",
   "id": "f2cd1929",
   "metadata": {},
   "source": [
    "Dynamic programming solutions are often iterative, solving the smallest problems first, and filling up the dp array incrementally. This is known as a bottom-up approach.\n",
    "\n",
    "However, dynamic programming can also be done using a recursive approach by passing in the dp array along in each recursive call. This often requires a helper function."
   ]
  }
 ],
 "metadata": {
  "language_info": {
   "codemirror_mode": {
    "name": "ipython",
    "version": 3
   },
   "file_extension": ".py",
   "mimetype": "text/x-python",
   "name": "python",
   "nbconvert_exporter": "python",
   "pygments_lexer": "ipython3",
   "version": "3.13.5"
  }
 },
 "nbformat": 4,
 "nbformat_minor": 5
}