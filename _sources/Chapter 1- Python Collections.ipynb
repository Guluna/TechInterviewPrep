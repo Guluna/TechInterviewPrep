{
 "cells": [
  {
   "cell_type": "markdown",
   "metadata": {},
   "source": [
    "# Chapter 1: Python Collections\n",
    "\n",
    "## Strings\n",
    "A string is a fundamental data type used to used to handle and manipulate textual data. It is represented by a sequence of characters that might include letters, numbers, symbols, and whitespace. They are considered an ordered and immutable collection.\n",
    "\n",
    "### Basic Syntax and Concepts"
   ]
  },
  {
   "cell_type": "markdown",
   "metadata": {},
   "source": [
    "#### print()"
   ]
  },
  {
   "cell_type": "code",
   "execution_count": 16,
   "metadata": {},
   "outputs": [
    {
     "name": "stdout",
     "output_type": "stream",
     "text": [
      "Hello World!\n"
     ]
    }
   ],
   "source": [
    "# print a string\n",
    "s = \"Hello World!\"\n",
    "print(s)"
   ]
  },
  {
   "cell_type": "markdown",
   "metadata": {},
   "source": [
    "#### quotes to use"
   ]
  },
  {
   "cell_type": "code",
   "execution_count": 17,
   "metadata": {},
   "outputs": [
    {
     "name": "stdout",
     "output_type": "stream",
     "text": [
      "hi Hey Hello\n"
     ]
    }
   ],
   "source": [
    "single_quotes = 'hi'\n",
    "double_quotes = \"Hey\"\n",
    "triple_quotes = '''Hello'''\n",
    "\n",
    "print(single_quotes, double_quotes, triple_quotes)"
   ]
  },
  {
   "cell_type": "markdown",
   "metadata": {},
   "source": [
    "#### len()"
   ]
  },
  {
   "cell_type": "code",
   "execution_count": 18,
   "metadata": {},
   "outputs": [
    {
     "data": {
      "text/plain": [
       "12"
      ]
     },
     "execution_count": 18,
     "metadata": {},
     "output_type": "execute_result"
    }
   ],
   "source": [
    "# length of characters \n",
    "len(s)"
   ]
  },
  {
   "cell_type": "markdown",
   "metadata": {},
   "source": [
    "#### lower() vs upper()\n",
    "Strings are immutable but methods like lower, upper, split essentially create a new string for us."
   ]
  },
  {
   "cell_type": "code",
   "execution_count": 19,
   "metadata": {},
   "outputs": [
    {
     "name": "stdout",
     "output_type": "stream",
     "text": [
      "hello world!\n"
     ]
    },
    {
     "data": {
      "text/plain": [
       "'HELLO WORLD!'"
      ]
     },
     "execution_count": 19,
     "metadata": {},
     "output_type": "execute_result"
    }
   ],
   "source": [
    "s = 'hello world!'\n",
    "\n",
    "# convert to lowercase\n",
    "print(s.lower())\n",
    "\n",
    "# convert to uppercase\n",
    "s.upper()"
   ]
  },
  {
   "cell_type": "markdown",
   "metadata": {},
   "source": [
    "#### ord() vs chr()\n",
    "- ord(c) returns an ASCII ordinal number of the provided character \n",
    "- chr(c) converts the provided ASCII ordinal number back to the character."
   ]
  },
  {
   "cell_type": "code",
   "execution_count": 20,
   "metadata": {},
   "outputs": [
    {
     "name": "stdout",
     "output_type": "stream",
     "text": [
      "65\n",
      "A\n",
      "B\n"
     ]
    }
   ],
   "source": [
    "print(ord('A'))  # Prints: 65\n",
    "print(chr(65))  # Prints: 'A'\n",
    "print(chr(ord('A') + 1)) # Prints: 'B'"
   ]
  },
  {
   "cell_type": "markdown",
   "metadata": {},
   "source": [
    "#### isalpha() vs isdigit() vs isalnum()"
   ]
  },
  {
   "cell_type": "code",
   "execution_count": 21,
   "metadata": {},
   "outputs": [
    {
     "name": "stdout",
     "output_type": "stream",
     "text": [
      "True\n",
      "False\n",
      "True\n",
      "False\n",
      "True\n",
      "False\n"
     ]
    }
   ],
   "source": [
    "print(\"C\".isalpha()) # Prints: True\n",
    "print(\"C++\".isalpha()) # Prints: False\n",
    "print(\"239\".isdigit()) # Prints: True\n",
    "print(\"C239\".isdigit()) # Prints: False\n",
    "print(\"C98\".isalnum()) # Prints: True\n",
    "print(\"C98++\".isalnum()) # Prints: False"
   ]
  },
  {
   "cell_type": "markdown",
   "metadata": {},
   "source": [
    "#### string.split() vs string.split(some_delimiter, 1)"
   ]
  },
  {
   "cell_type": "code",
   "execution_count": 22,
   "metadata": {},
   "outputs": [
    {
     "data": {
      "text/plain": [
       "['hello', 'world!']"
      ]
     },
     "execution_count": 22,
     "metadata": {},
     "output_type": "execute_result"
    }
   ],
   "source": [
    "# Split along whitespace\n",
    "s.split()"
   ]
  },
  {
   "cell_type": "code",
   "execution_count": 23,
   "metadata": {},
   "outputs": [
    {
     "data": {
      "text/plain": [
       "['A1', 'foo', 'bar,C1', 'hello']"
      ]
     },
     "execution_count": 23,
     "metadata": {},
     "output_type": "execute_result"
    }
   ],
   "source": [
    "s = \"A1=foo=bar,C1=hello\"\n",
    "s.split(\"=\")"
   ]
  },
  {
   "cell_type": "code",
   "execution_count": 24,
   "metadata": {},
   "outputs": [
    {
     "data": {
      "text/plain": [
       "['A1', 'foo=bar,C1=hello']"
      ]
     },
     "execution_count": 24,
     "metadata": {},
     "output_type": "execute_result"
    }
   ],
   "source": [
    "s = \"A1=foo=bar,C1=hello\"\n",
    "s.split(\"=\", 1)"
   ]
  },
  {
   "cell_type": "markdown",
   "metadata": {},
   "source": [
    "#### ' '.join(lst)"
   ]
  },
  {
   "cell_type": "code",
   "execution_count": 25,
   "metadata": {},
   "outputs": [
    {
     "name": "stdout",
     "output_type": "stream",
     "text": [
      "Let us go on a hike\n"
     ]
    }
   ],
   "source": [
    "# turn an iterable into a string\n",
    "lst = ['Let', 'us', 'go', 'on', 'a', 'hike']\n",
    "print(' '.join(lst))"
   ]
  },
  {
   "cell_type": "markdown",
   "metadata": {},
   "source": [
    "#### string.strip()"
   ]
  },
  {
   "cell_type": "code",
   "execution_count": 26,
   "metadata": {},
   "outputs": [
    {
     "name": "stdout",
     "output_type": "stream",
     "text": [
      "       Let us go on a hike       \n",
      "Let us go on a hike\n"
     ]
    }
   ],
   "source": [
    "# strip whitespace\n",
    "s = '       Let us go on a hike       '\n",
    "print(s)\n",
    "print(s.strip())"
   ]
  },
  {
   "cell_type": "code",
   "execution_count": 27,
   "metadata": {},
   "outputs": [
    {
     "name": "stdout",
     "output_type": "stream",
     "text": [
      "John Doe    \n",
      "    John Doe\n"
     ]
    }
   ],
   "source": [
    "# left and right strip()\n",
    "name = '    John Doe    '\n",
    "print(name.lstrip())  # Output: 'John Doe    '\n",
    "print(name.rstrip())  # Output: '    John Doe'"
   ]
  },
  {
   "cell_type": "markdown",
   "metadata": {},
   "source": [
    "#### string.replace()"
   ]
  },
  {
   "cell_type": "code",
   "execution_count": 28,
   "metadata": {},
   "outputs": [
    {
     "name": "stdout",
     "output_type": "stream",
     "text": [
      "iger\n"
     ]
    }
   ],
   "source": [
    "s = 'tiger'\n",
    "print(s.replace('t', ''))"
   ]
  },
  {
   "cell_type": "markdown",
   "metadata": {},
   "source": [
    "#### s.find(x) \n",
    "Returns start index of the first occurrence of substring x in a given string. Returns -1 if x is not in the string."
   ]
  },
  {
   "cell_type": "code",
   "execution_count": 29,
   "metadata": {},
   "outputs": [
    {
     "name": "stdout",
     "output_type": "stream",
     "text": [
      "6\n"
     ]
    }
   ],
   "source": [
    "s = 'tigeress'\n",
    "print(s.find('s'))"
   ]
  },
  {
   "cell_type": "markdown",
   "metadata": {},
   "source": [
    "#### s.count(x) \n",
    "Returns the frequency of the substring x in the given string."
   ]
  },
  {
   "cell_type": "code",
   "execution_count": 30,
   "metadata": {},
   "outputs": [
    {
     "name": "stdout",
     "output_type": "stream",
     "text": [
      "2\n",
      "1\n"
     ]
    }
   ],
   "source": [
    "s = 'tigeress'\n",
    "\n",
    "print(s.count('s'))\n",
    "\n",
    "print(s.count('ss'))"
   ]
  },
  {
   "cell_type": "markdown",
   "metadata": {},
   "source": [
    "#### inequality operators"
   ]
  },
  {
   "cell_type": "code",
   "execution_count": 31,
   "metadata": {},
   "outputs": [
    {
     "name": "stdout",
     "output_type": "stream",
     "text": [
      "I am a capital letter\n",
      "I am not sure, who I am (philosophically speaking)\n",
      "I am a small case letter\n",
      "I am a small case letter\n",
      "I am not sure, who I am (philosophically speaking)\n",
      "I am a small case letter\n",
      "I am not sure, who I am (philosophically speaking)\n",
      "I am a small case letter\n",
      "I am a small case letter\n",
      "I am a small case letter\n",
      "I am a small case letter\n",
      "I am a small case letter\n",
      "I am a small case letter\n",
      "I am a small case letter\n"
     ]
    }
   ],
   "source": [
    "s = \"I am a unicorn\"\n",
    "\n",
    "for c in s:\n",
    "    if 'a' <= c <= 'z':\n",
    "        print(\"I am a small case letter\")\n",
    "    elif 'A' <= c <= 'Z':\n",
    "        print(\"I am a capital letter\")\n",
    "    elif '0' <= c <= '9':\n",
    "        print(\"I am an integer\")\n",
    "    else:\n",
    "        print(\"I am not sure, who I am (philosophically speaking)\")"
   ]
  },
  {
   "cell_type": "markdown",
   "metadata": {},
   "source": [
    "#### reverse a string"
   ]
  },
  {
   "cell_type": "code",
   "execution_count": 32,
   "metadata": {},
   "outputs": [
    {
     "name": "stdout",
     "output_type": "stream",
     "text": [
      "olleh\n"
     ]
    }
   ],
   "source": [
    "s = \"hello\"\n",
    "print(s[::-1])"
   ]
  },
  {
   "cell_type": "markdown",
   "metadata": {},
   "source": [
    "### Practice Questions\n",
    "\n",
    "````{tab-set}\n",
    "```{tab-item} Q1 Replace characters/substrings\n",
    "Write a function tiggerfy() that accepts a string word and returns a new string that removes any substrings t, i, gg, and er from word. The function should be case insensitive.\n",
    "```\n",
    "\n",
    "```{tab-item} Solution\n",
    "\n",
    "    \n",
    "    def tiggerfy(word):\n",
    "        word_lower = word.lower()\n",
    "        \n",
    "        word_lower = word_lower.replace('t', '')\n",
    "        word_lower = word_lower.replace('i', '')\n",
    "        word_lower = word_lower.replace('gg', '')\n",
    "        word_lower = word_lower.replace('er', '')\n",
    "        \n",
    "        return word_lower\n",
    "    \n",
    "\n",
    "```\n",
    "````"
   ]
  },
  {
   "cell_type": "markdown",
   "metadata": {},
   "source": [
    "## Lists\n",
    "Lists are mutable. They let us organize data so that each item holds a definite position.\n",
    "\n",
    "### Basic Syntax and Concepts"
   ]
  },
  {
   "cell_type": "markdown",
   "metadata": {},
   "source": [
    "#### sum(lst)"
   ]
  },
  {
   "cell_type": "code",
   "execution_count": 33,
   "metadata": {},
   "outputs": [
    {
     "data": {
      "text/plain": [
       "10"
      ]
     },
     "execution_count": 33,
     "metadata": {},
     "output_type": "execute_result"
    }
   ],
   "source": [
    "numbers = [1,2,3,4]\n",
    "sum(numbers)"
   ]
  },
  {
   "cell_type": "markdown",
   "metadata": {},
   "source": [
    "#### min(lst)"
   ]
  },
  {
   "cell_type": "code",
   "execution_count": 34,
   "metadata": {},
   "outputs": [
    {
     "data": {
      "text/plain": [
       "1"
      ]
     },
     "execution_count": 34,
     "metadata": {},
     "output_type": "execute_result"
    }
   ],
   "source": [
    "min(numbers)"
   ]
  },
  {
   "cell_type": "markdown",
   "metadata": {},
   "source": [
    "#### max(lst)"
   ]
  },
  {
   "cell_type": "code",
   "execution_count": 35,
   "metadata": {},
   "outputs": [
    {
     "data": {
      "text/plain": [
       "4"
      ]
     },
     "execution_count": 35,
     "metadata": {},
     "output_type": "execute_result"
    }
   ],
   "source": [
    "max(numbers)"
   ]
  },
  {
   "cell_type": "markdown",
   "metadata": {},
   "source": [
    "#### lst.append()"
   ]
  },
  {
   "cell_type": "code",
   "execution_count": 36,
   "metadata": {},
   "outputs": [
    {
     "name": "stdout",
     "output_type": "stream",
     "text": [
      "[1, 2, 3, 4, 5]\n"
     ]
    }
   ],
   "source": [
    "# appends new items at the end\n",
    "numbers.append(5)\n",
    "print(numbers)"
   ]
  },
  {
   "cell_type": "markdown",
   "metadata": {},
   "source": [
    "#### lst.extend(other_lst)"
   ]
  },
  {
   "cell_type": "code",
   "execution_count": 37,
   "metadata": {},
   "outputs": [
    {
     "name": "stdout",
     "output_type": "stream",
     "text": [
      "[1, 2, 3, 4, 5, 6, 7, 11, 12, 13]\n"
     ]
    }
   ],
   "source": [
    "# Modifies the given list by appending all elements in iterable x.\n",
    "small_list = [11,12,13]\n",
    "big_list = [1,2,3,4,5,6,7]\n",
    "big_list.extend(small_list)\n",
    "print(big_list)"
   ]
  },
  {
   "cell_type": "markdown",
   "metadata": {},
   "source": [
    "#### lst.sort()"
   ]
  },
  {
   "cell_type": "code",
   "execution_count": 38,
   "metadata": {},
   "outputs": [
    {
     "name": "stdout",
     "output_type": "stream",
     "text": [
      "[5, 4, 3, 2, 1]\n"
     ]
    }
   ],
   "source": [
    "# sorts in-place and does not return anything\n",
    "numbers.sort(reverse=True)\n",
    "print(numbers)"
   ]
  },
  {
   "cell_type": "markdown",
   "metadata": {},
   "source": [
    "#### sorted(lst)"
   ]
  },
  {
   "cell_type": "code",
   "execution_count": 39,
   "metadata": {},
   "outputs": [
    {
     "name": "stdout",
     "output_type": "stream",
     "text": [
      "[1, 2, 3, 4, 5]\n"
     ]
    }
   ],
   "source": [
    "# doesn't modify the original list but does return a sorted list\n",
    "new_list = sorted(numbers)\n",
    "print(new_list)"
   ]
  },
  {
   "cell_type": "markdown",
   "metadata": {},
   "source": [
    "#### lst.insert()"
   ]
  },
  {
   "cell_type": "code",
   "execution_count": 40,
   "metadata": {},
   "outputs": [
    {
     "name": "stdout",
     "output_type": "stream",
     "text": [
      "['a', 'b', 'c', '!', 'd']\n"
     ]
    }
   ],
   "source": [
    "# insert an element at a particular index\n",
    "alphabets = [\"a\", \"b\", \"c\", \"d\"]\n",
    "alphabets.insert(3, \"!\")\n",
    "print(alphabets)"
   ]
  },
  {
   "cell_type": "markdown",
   "metadata": {},
   "source": [
    "#### lst.remove() vs lst.pop()"
   ]
  },
  {
   "cell_type": "code",
   "execution_count": 41,
   "metadata": {},
   "outputs": [
    {
     "name": "stdout",
     "output_type": "stream",
     "text": [
      "['a', 'b', 'c']\n",
      "['a', 'b', 'c', 'd']\n",
      "['a', 'b', 'c']\n",
      "['a', 'b']\n"
     ]
    }
   ],
   "source": [
    "alphabets = [\"a\", \"b\", \"c\"]\n",
    "print(alphabets)\n",
    "\n",
    "alphabets.insert(3, \"d\")\n",
    "print(alphabets)\n",
    "\n",
    "# removes just the first occurence of element passed\n",
    "alphabets.remove(\"d\")\n",
    "print(alphabets)\n",
    "\n",
    "# Removes element at index x from list\n",
    "alphabets.pop(2)\n",
    "print(alphabets)"
   ]
  },
  {
   "cell_type": "markdown",
   "metadata": {},
   "source": [
    "#### reversal"
   ]
  },
  {
   "cell_type": "code",
   "execution_count": 42,
   "metadata": {},
   "outputs": [
    {
     "name": "stdout",
     "output_type": "stream",
     "text": [
      "[3, 2, 1]\n",
      "[1, 2, 3]\n",
      "[30, 20, 10]\n"
     ]
    }
   ],
   "source": [
    "list1 = [1, 2, 3]\n",
    "print(list1[::-1])\n",
    "print(list1)\n",
    "\n",
    "list2 = [10, 20, 30]\n",
    "# reverses in-place\n",
    "list2.reverse()\n",
    "print(list2)"
   ]
  },
  {
   "cell_type": "markdown",
   "metadata": {},
   "source": [
    "#### slicing[:]"
   ]
  },
  {
   "cell_type": "code",
   "execution_count": 43,
   "metadata": {},
   "outputs": [
    {
     "name": "stdout",
     "output_type": "stream",
     "text": [
      "['b']\n"
     ]
    }
   ],
   "source": [
    "# Slicing: my_list[start:end], `start` inclusive, `end` exclusive\n",
    "print(alphabets[1:4])"
   ]
  },
  {
   "cell_type": "markdown",
   "metadata": {},
   "source": [
    "#### concatenation (+)"
   ]
  },
  {
   "cell_type": "code",
   "execution_count": 44,
   "metadata": {},
   "outputs": [
    {
     "name": "stdout",
     "output_type": "stream",
     "text": [
      "['a', 'b', 'Panda', 'Cat']\n"
     ]
    }
   ],
   "source": [
    "# Concatenation: my_list + another_list\n",
    "animals = [\"Panda\", \"Cat\"]\n",
    "print(alphabets + animals)"
   ]
  },
  {
   "cell_type": "markdown",
   "metadata": {},
   "source": [
    "#### repetition (*)"
   ]
  },
  {
   "cell_type": "code",
   "execution_count": 45,
   "metadata": {},
   "outputs": [
    {
     "name": "stdout",
     "output_type": "stream",
     "text": [
      "['Panda', 'Cat', 'Panda', 'Cat']\n"
     ]
    }
   ],
   "source": [
    "# Repetition: my_list * n\n",
    "print(animals * 2)"
   ]
  },
  {
   "cell_type": "markdown",
   "metadata": {},
   "source": [
    "#### lst.index()"
   ]
  },
  {
   "cell_type": "code",
   "execution_count": 46,
   "metadata": {},
   "outputs": [
    {
     "data": {
      "text/plain": [
       "1"
      ]
     },
     "execution_count": 46,
     "metadata": {},
     "output_type": "execute_result"
    }
   ],
   "source": [
    "# returns the index of given element\n",
    "animals.index(\"Cat\")"
   ]
  },
  {
   "cell_type": "markdown",
   "metadata": {},
   "source": [
    "#### item in lst"
   ]
  },
  {
   "cell_type": "code",
   "execution_count": 47,
   "metadata": {},
   "outputs": [
    {
     "name": "stdout",
     "output_type": "stream",
     "text": [
      "False\n"
     ]
    }
   ],
   "source": [
    "print(\"Dog\" in animals)"
   ]
  },
  {
   "cell_type": "code",
   "execution_count": 48,
   "metadata": {},
   "outputs": [
    {
     "name": "stdout",
     "output_type": "stream",
     "text": [
      "2\n"
     ]
    }
   ],
   "source": [
    "# fun example\n",
    "x =  animals[0].lower().index('n') if 2>0 else -1\n",
    "print(x)"
   ]
  },
  {
   "cell_type": "markdown",
   "metadata": {},
   "source": [
    "#### bisect_left(lst, item)"
   ]
  },
  {
   "cell_type": "code",
   "execution_count": 49,
   "metadata": {},
   "outputs": [
    {
     "name": "stdout",
     "output_type": "stream",
     "text": [
      "0\n",
      "5\n",
      "2\n"
     ]
    }
   ],
   "source": [
    "from bisect import bisect_left\n",
    "\n",
    "# pass a sorted list\n",
    "Y = [1, 2, 3, 4, 5]\n",
    "print(bisect_left(Y, 0))\n",
    "print(bisect_left(Y, 6))\n",
    "print(bisect_left(Y, 2.5))"
   ]
  },
  {
   "cell_type": "markdown",
   "metadata": {},
   "source": [
    "#### lst.copy() \n",
    "Creates a copy of a list"
   ]
  },
  {
   "cell_type": "code",
   "execution_count": 50,
   "metadata": {},
   "outputs": [
    {
     "name": "stdout",
     "output_type": "stream",
     "text": [
      "[1, 2, 3]\n",
      "[9, 2, 3]\n"
     ]
    }
   ],
   "source": [
    "list1 = [1,2,3]\n",
    "list2 = list1.copy()\n",
    "list2[0] = 9\n",
    "\n",
    "print(list1)\n",
    "print(list2)"
   ]
  },
  {
   "cell_type": "markdown",
   "metadata": {},
   "source": [
    "## Tuples\n",
    "A string is a fundamental data type used to used to handle and manipulate textual data. It is represented by a sequence of characters that might include letters, numbers, symbols, and whitespace. They are considered an ordered and immutable collection. Tuples are commonly used to store pairs of data together or return multiple values inside a function.\n",
    "\n",
    "### Basic Syntax and Concepts"
   ]
  },
  {
   "cell_type": "markdown",
   "metadata": {},
   "source": [
    "#### tuple creation and update"
   ]
  },
  {
   "cell_type": "code",
   "execution_count": 54,
   "metadata": {},
   "outputs": [
    {
     "name": "stdout",
     "output_type": "stream",
     "text": [
      "'tuple' object does not support item assignment\n"
     ]
    }
   ],
   "source": [
    "my_tuple = (10, 20)\n",
    "\n",
    "try:\n",
    "    my_tuple[0] = 30 # Results in TypeError: 'tuple' object does not support item assignment since it is unmutable\n",
    "except TypeError as e:\n",
    "    print(e)"
   ]
  },
  {
   "cell_type": "markdown",
   "metadata": {},
   "source": [
    "## Sets\n",
    "\n",
    "Important Considerations:\n",
    "1. Uniqueness\n",
    "2. Unordered\n",
    "3. Hashable (elements must be immutable i.e. numbers, strings, and tuples instead of mutable objects like lists, dictionaries, or other sets)\n",
    "\n",
    "### Basic Syntax and Concepts"
   ]
  },
  {
   "cell_type": "markdown",
   "metadata": {},
   "source": [
    "#### Creation"
   ]
  },
  {
   "cell_type": "code",
   "execution_count": null,
   "metadata": {},
   "outputs": [
    {
     "name": "stdout",
     "output_type": "stream",
     "text": [
      "{1, 2, 3, 'banana', 'apple'}\n"
     ]
    }
   ],
   "source": [
    "my_set = {1, 2, 3, \"apple\", \"banana\"}\n",
    "print(my_set)"
   ]
  },
  {
   "cell_type": "code",
   "execution_count": null,
   "metadata": {},
   "outputs": [
    {
     "name": "stdout",
     "output_type": "stream",
     "text": [
      "set()\n",
      "{1, 2, 3, 4, 5}\n",
      "{'e', 'l', 'h', 'o'}\n"
     ]
    }
   ],
   "source": [
    "# Creating an empty set\n",
    "empty_set = set()\n",
    "print(empty_set)\n",
    "\n",
    "# Creating a set from a list\n",
    "list_data = [1, 2, 2, 3, 4, 4, 5]\n",
    "set_from_list = set(list_data)\n",
    "print(set_from_list)  # Output: {1, 2, 3, 4, 5}\n",
    "\n",
    "# Creating a set from a string\n",
    "string_data = \"hello\"\n",
    "set_from_string = set(string_data)\n",
    "print(set_from_string)  # Output: {'h', 'e', 'l', 'o'} (order may vary)"
   ]
  },
  {
   "cell_type": "markdown",
   "metadata": {},
   "source": [
    "#### add()"
   ]
  },
  {
   "cell_type": "code",
   "execution_count": null,
   "metadata": {},
   "outputs": [
    {
     "name": "stdout",
     "output_type": "stream",
     "text": [
      "{1, 2, 3, 4}\n"
     ]
    }
   ],
   "source": [
    "my_set = {1, 2, 3}\n",
    "my_set.add(4)\n",
    "print(my_set)  # Output: {1, 2, 3, 4}"
   ]
  },
  {
   "cell_type": "markdown",
   "metadata": {},
   "source": [
    "#### remove() vs discard()"
   ]
  },
  {
   "cell_type": "code",
   "execution_count": null,
   "metadata": {},
   "outputs": [
    {
     "name": "stdout",
     "output_type": "stream",
     "text": [
      "{1, 3}\n"
     ]
    }
   ],
   "source": [
    "my_set = {1, 2, 3}\n",
    "my_set.remove(2)\n",
    "print(my_set)  # Output: {1, 3}\n",
    "# my_set.remove(4) # This would raise a KeyError"
   ]
  },
  {
   "cell_type": "code",
   "execution_count": null,
   "metadata": {},
   "outputs": [
    {
     "name": "stdout",
     "output_type": "stream",
     "text": [
      "{1, 3}\n",
      "{1, 3}\n"
     ]
    }
   ],
   "source": [
    "my_set = {1, 2, 3}\n",
    "my_set.discard(2)\n",
    "print(my_set)  # Output: {1, 3}\n",
    "my_set.discard(4) # No error, set remains {1, 3}\n",
    "print(my_set)"
   ]
  },
  {
   "cell_type": "markdown",
   "metadata": {},
   "source": [
    "#### union() vs update()\n",
    "- union returns a new set without modifying the original sets\n",
    "- update returns None as it alters the original set in-place"
   ]
  },
  {
   "cell_type": "code",
   "execution_count": null,
   "metadata": {},
   "outputs": [
    {
     "name": "stdout",
     "output_type": "stream",
     "text": [
      "{1, 2, 3}\n",
      "{1, 2, 3, 4, 5}\n"
     ]
    }
   ],
   "source": [
    "set1 = {1, 2, 3}\n",
    "set2 = {3, 4, 5}\n",
    "new_set = set1.union(set2)\n",
    "print(set1)  # Output: {1, 2, 3} (original set1 unchanged)\n",
    "print(new_set) # Output: {1, 2, 3, 4, 5} (a new set is created)"
   ]
  },
  {
   "cell_type": "code",
   "execution_count": null,
   "metadata": {},
   "outputs": [
    {
     "name": "stdout",
     "output_type": "stream",
     "text": [
      "{1, 2, 3, 4, 5}\n"
     ]
    }
   ],
   "source": [
    "set1 = {1, 2, 3}\n",
    "set2 = {3, 4, 5}\n",
    "set1.update(set2)\n",
    "print(set1)  # Output: {1, 2, 3, 4, 5} (original set1 is modified)"
   ]
  },
  {
   "cell_type": "markdown",
   "metadata": {},
   "source": [
    "#### clear()\n",
    "Removes all elements from the set."
   ]
  },
  {
   "cell_type": "code",
   "execution_count": null,
   "metadata": {},
   "outputs": [
    {
     "name": "stdout",
     "output_type": "stream",
     "text": [
      "set()\n"
     ]
    }
   ],
   "source": [
    "myset = {1,2,3}\n",
    "myset.clear()\n",
    "print(myset)"
   ]
  },
  {
   "cell_type": "markdown",
   "metadata": {},
   "source": [
    "#### union, intersection, difference, and symmetric difference\n",
    "\n",
    "- Union: a | b: Returns the set of elements contained in either set a or set b.\n",
    "- Intersection: a & b: Returns the set of elements contained in both set a or set b.\n",
    "- Difference: a - b: Returns the set of elements contained in set a but not in set b.\n",
    "- Symmetric Difference: a ^ b: Returns the set of elements contained in either set a or set b but not in both (i.e. elements left after removing the intersecting elements)."
   ]
  },
  {
   "cell_type": "code",
   "execution_count": null,
   "metadata": {},
   "outputs": [
    {
     "name": "stdout",
     "output_type": "stream",
     "text": [
      "{1, 2, 3, 4, 5}\n",
      "{3}\n",
      "{1, 2}\n",
      "{1, 2, 4, 5}\n"
     ]
    }
   ],
   "source": [
    "set1 = {1, 2, 3}\n",
    "set2 = {3, 4, 5}\n",
    "\n",
    "# Union: Elements in either set\n",
    "union_set = set1 | set2           # {1, 2, 3, 4, 5}\n",
    "print(union_set)\n",
    "\n",
    "# Intersection: Elements common to both sets\n",
    "intersection_set = set1 & set2    # {3}\n",
    "print(intersection_set)\n",
    "\n",
    "# Difference: Elements in set1 but not in set2\n",
    "difference_set = set1 - set2      # {1, 2}\n",
    "print(difference_set)\n",
    "\n",
    "# Symmetric Difference: Elements in either set, but not both\n",
    "symmetric_difference_set = set1 ^ set2  # {1, 2, 4, 5}\n",
    "print(symmetric_difference_set)"
   ]
  },
  {
   "cell_type": "code",
   "execution_count": null,
   "metadata": {},
   "outputs": [
    {
     "data": {
      "text/plain": [
       "[5, 4, 2, 1]"
      ]
     },
     "execution_count": 7,
     "metadata": {},
     "output_type": "execute_result"
    }
   ],
   "source": [
    "sorted(symmetric_difference_set, reverse=True)"
   ]
  },
  {
   "cell_type": "markdown",
   "metadata": {},
   "source": [
    "## Dictionaries\n",
    "A string is a fundamental data type used to used to handle and manipulate textual data. It is represented by a sequence of characters that might include letters, numbers, symbols, and whitespace. They are considered an ordered and immutable collection.\n",
    "\n",
    "### Basic Syntax and Concepts"
   ]
  },
  {
   "cell_type": "markdown",
   "metadata": {},
   "source": [
    "#### dict.get(key, default_val)\n",
    "To avoid KeyError"
   ]
  },
  {
   "cell_type": "code",
   "execution_count": null,
   "metadata": {},
   "outputs": [
    {
     "name": "stdout",
     "output_type": "stream",
     "text": [
      "1\n",
      "None\n",
      "Not Found\n"
     ]
    }
   ],
   "source": [
    "d = {'a': 1, 'b': 2, 'c': 3}\n",
    "print(d.get('a'))       # Outputs: 1\n",
    "print(d.get('z'))       # Outputs: None\n",
    "print(d.get('z', 'Not Found'))  # Outputs: 'Not Found'"
   ]
  },
  {
   "cell_type": "code",
   "execution_count": null,
   "metadata": {},
   "outputs": [
    {
     "name": "stdout",
     "output_type": "stream",
     "text": [
      "{'a': 2, 'b': 3, 'c': 4}\n"
     ]
    }
   ],
   "source": [
    "# using d.get() to create a counter\n",
    "freq = {}\n",
    "s = \"aabbbcccc\"\n",
    "for c in s:\n",
    "    freq[c] = freq.get(c, 0)+1\n",
    "\n",
    "print(freq)"
   ]
  },
  {
   "cell_type": "markdown",
   "metadata": {},
   "source": [
    "#### defaultdict\n",
    "It is a dictionary type that allows us to set default values to keys. Unlike typical dictionaries, defaultdict returns a default value for the missing keys."
   ]
  },
  {
   "cell_type": "code",
   "execution_count": null,
   "metadata": {},
   "outputs": [
    {
     "name": "stdout",
     "output_type": "stream",
     "text": [
      "Alice\n",
      "N/A\n",
      "defaultdict(<function default_value_function at 0x11b942340>, {'name': 'Alice', 'age': 'N/A'})\n"
     ]
    }
   ],
   "source": [
    "from collections import defaultdict\n",
    "\n",
    "def default_value_function():\n",
    "    return \"N/A\"\n",
    "\n",
    "# Create a defaultdict using a custom function as the default factory\n",
    "info = defaultdict(default_value_function)\n",
    "\n",
    "info['name'] = 'Alice'\n",
    "print(info['name'])\n",
    "print(info['age']) # Accessing a non-existent key\n",
    "\n",
    "print(info)\n",
    "# Output:\n",
    "# Alice\n",
    "# N/A\n",
    "# defaultdict(<function default_value_function at 0x...>, {'name': 'Alice', 'age': 'N/A'})"
   ]
  },
  {
   "cell_type": "markdown",
   "metadata": {},
   "source": [
    "In this example below, when word_counts[word] is accessed for the first time for a new word, int() is called, which returns 0. This 0 is then assigned as the value for that key, and the += 1 operation increments it."
   ]
  },
  {
   "cell_type": "code",
   "execution_count": null,
   "metadata": {},
   "outputs": [],
   "source": [
    "from collections import defaultdict\n",
    "\n",
    "# Create a defaultdict where the default value for new keys is 0 (int())\n",
    "word_counts = defaultdict(int)\n",
    "\n",
    "text = \"apple banana apple orange banana apple\"\n",
    "words = text.split()\n",
    "\n",
    "for word in words:\n",
    "    word_counts[word] += 1\n",
    "\n",
    "print(word_counts)\n",
    "# Output: defaultdict(<class 'int'>, {'apple': 3, 'banana': 2, 'orange': 1})"
   ]
  },
  {
   "cell_type": "markdown",
   "metadata": {},
   "source": [
    "#### del dict[\"key\"]"
   ]
  },
  {
   "cell_type": "code",
   "execution_count": null,
   "metadata": {},
   "outputs": [
    {
     "name": "stdout",
     "output_type": "stream",
     "text": [
      "{'apple': 1, 'cherry': 3}\n"
     ]
    }
   ],
   "source": [
    "my_dict = {\"apple\": 1, \"banana\": 2, \"cherry\": 3}\n",
    "del my_dict[\"banana\"]\n",
    "print(my_dict)\n",
    "# Output: {'apple': 1, 'cherry': 3}"
   ]
  },
  {
   "cell_type": "markdown",
   "metadata": {},
   "source": [
    "#### dict.pop(key, default_val)\n",
    "To avoid getting KeyError"
   ]
  },
  {
   "cell_type": "code",
   "execution_count": null,
   "metadata": {},
   "outputs": [
    {
     "name": "stdout",
     "output_type": "stream",
     "text": [
      "1\n",
      "{'b': 2, 'c': 3}\n",
      "None\n",
      "{'b': 2, 'c': 3}\n"
     ]
    }
   ],
   "source": [
    "d = {'a': 1, 'b': 2, 'c': 3}\n",
    "print(d.pop('a', None)) # Returns 1\n",
    "print(d) # Prints {'b': 2, 'c': 3, 'd': 4}\n",
    "\n",
    "print(d.pop('e', None)) # Returns None\n",
    "print(d) # Prints {'b': 2, 'c': 3, 'd': 4}"
   ]
  },
  {
   "cell_type": "markdown",
   "metadata": {},
   "source": [
    "#### isinstance() vs type()"
   ]
  },
  {
   "cell_type": "code",
   "execution_count": null,
   "metadata": {},
   "outputs": [
    {
     "name": "stdout",
     "output_type": "stream",
     "text": [
      "True\n",
      "False\n",
      "False\n"
     ]
    }
   ],
   "source": [
    "my_dict = {'name': 'Alice', 'age': 30}\n",
    "my_list = [1, 2, 3]\n",
    "my_string = \"hello\"\n",
    "\n",
    "print(isinstance(my_dict, dict))  # Output: True\n",
    "print(isinstance(my_list, dict))  # Output: False\n",
    "print(isinstance(my_string, dict)) # Output: False"
   ]
  },
  {
   "cell_type": "code",
   "execution_count": null,
   "metadata": {},
   "outputs": [
    {
     "data": {
      "text/plain": [
       "True"
      ]
     },
     "execution_count": 2,
     "metadata": {},
     "output_type": "execute_result"
    }
   ],
   "source": [
    "type(my_dict) is dict"
   ]
  }
 ],
 "metadata": {
  "kernelspec": {
   "display_name": "jupybook_env",
   "language": "python",
   "name": "python3"
  },
  "language_info": {
   "codemirror_mode": {
    "name": "ipython",
    "version": 3
   },
   "file_extension": ".py",
   "mimetype": "text/x-python",
   "name": "python",
   "nbconvert_exporter": "python",
   "pygments_lexer": "ipython3",
   "version": "3.13.5"
  },
  "widgets": {
   "application/vnd.jupyter.widget-state+json": {
    "state": {},
    "version_major": 2,
    "version_minor": 0
   }
  }
 },
 "nbformat": 4,
 "nbformat_minor": 4
}
